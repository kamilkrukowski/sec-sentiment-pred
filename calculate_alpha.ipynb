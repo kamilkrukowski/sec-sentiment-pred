{
 "cells": [
  {
   "cell_type": "code",
   "execution_count": 14,
   "id": "d2f054c7",
   "metadata": {},
   "outputs": [],
   "source": [
    "import pandas as pd\n",
    "from datetime import datetime, timedelta\n",
    "import matplotlib.pyplot as plt"
   ]
  },
  {
   "cell_type": "code",
   "execution_count": 38,
   "id": "a337bea7",
   "metadata": {},
   "outputs": [],
   "source": [
    "rf_info = pd.read_csv(\"Risk_free_rate.csv\", parse_dates = [\"Date\"], index_col = \"Date\")\n",
    "# calculate the product once and pass it as an argument to the function\n",
    "rf_cumprod = (1+rf_info/100).cumprod() \n",
    "rf_date, cumprod_rf  =  rf_info.index, rf_cumprod.values.tolist()"
   ]
  },
  {
   "cell_type": "code",
   "execution_count": 45,
   "id": "54aeb813",
   "metadata": {},
   "outputs": [],
   "source": [
    "def jensen_alpha(start_date,rf_date,cumprod_rf,rp, rm , B):\n",
    "    # Find date in rf that is greater than or equal to trading date\n",
    "    idx = rf_date.searchsorted(start_date)\n",
    "    end_idx = rf_date.searchsorted(start_date+ timedelta(days= 365 ) )\n",
    "    try:\n",
    "        if idx < end_idx:\n",
    "            rf = cumprod_rf[end_idx -1][1] / cumprod_rf[idx-1][1] -1\n",
    "            rm_rf = rm - rf\n",
    "           \n",
    "        else:\n",
    "            rf = cumprod_rf[idx][1] / cumprod_rf[idx - 1][1] -1\n",
    "            rm_rf =  rm - rf\n",
    "    except IndexError:\n",
    "        return None\n",
    "    \n",
    "    # rp is percent return\n",
    "    # b is beta\n",
    "    if(rp == -999 or B == -999):\n",
    "        return None\n",
    "    #print(rp,rf,B, rm_rf)\n",
    "    return rp - rf - B * rm_rf"
   ]
  },
  {
   "cell_type": "code",
   "execution_count": 63,
   "id": "c56665d7",
   "metadata": {},
   "outputs": [],
   "source": [
    "def simple_alpha(rp,rm):\n",
    "    return rp - rm"
   ]
  },
  {
   "cell_type": "code",
   "execution_count": 156,
   "id": "6b44754d",
   "metadata": {},
   "outputs": [],
   "source": [
    "import os\n",
    "import pandas as pd\n",
    "from scipy.stats.mstats import gmean\n",
    "from datetime import datetime, timedelta\n",
    "import numpy as np\n",
    "import matplotlib.pyplot as plt\n",
    "import seaborn as sns\n"
   ]
  },
  {
   "cell_type": "code",
   "execution_count": 93,
   "id": "bc002977",
   "metadata": {},
   "outputs": [],
   "source": [
    "directory = \"tuning_output\""
   ]
  },
  {
   "cell_type": "code",
   "execution_count": null,
   "id": "509b0e7a",
   "metadata": {},
   "outputs": [],
   "source": [
    "df[]"
   ]
  },
  {
   "cell_type": "code",
   "execution_count": 181,
   "id": "3277032d",
   "metadata": {},
   "outputs": [
    {
     "name": "stderr",
     "output_type": "stream",
     "text": [
      "/var/folders/nj/5crsgjwx3sxd51h31pmwlxj80000gn/T/ipykernel_6289/950329853.py:17: FutureWarning: The default value of numeric_only in DataFrameGroupBy.mean is deprecated. In a future version, numeric_only will default to False. Either specify numeric_only or select only columns which should be valid for the function.\n",
      "  grouped_averages = grouped_df.mean()\n"
     ]
    }
   ],
   "source": [
    "# THIS CELL CALCULATES ALPHAS AND BOXPLOTS \n",
    "def calculate_gmean(group):\n",
    "    return gmean(group + 1) - 1\n",
    "\n",
    "\n",
    "\n",
    "df = pd.read_csv('tuning_output/outputs_3.csv')\n",
    "df = df[df['sp Annual (90)'] != -999]\n",
    "df = df[df['beta'] >= 0]\n",
    "df = df[df['beta'] <= 3.0]\n",
    "df['Date'] = pd.to_datetime(df['Date'])\n",
    "df = df[df['Date'].dt.month.isin([1,2,3,4])] #VALIIDATION SET\n",
    "# df = df[df['Date'].dt.month.isin([5,6,7,8,9, 10, 11, 12])] # TESTING SET\n",
    "\n",
    "\n",
    "grouped_df = df.groupby(['year', 'k'])\n",
    "grouped_averages = grouped_df.mean()\n",
    "k_betas = list(grouped_averages['beta'])\n",
    "cols = ['Percent Return (7)', 'Percent Return (14)', 'Percent Return (90)']\n",
    "k_returns_7 = list(grouped_df['Percent Return (7)'].apply(calculate_gmean))\n",
    "k_returns_14 = list(grouped_df['Percent Return (14)'].apply(calculate_gmean))\n",
    "k_returns_90 = list(grouped_df['Percent Return (90)'].apply(calculate_gmean))\n",
    "\n",
    "\n",
    "k_sp_returns_7 = list(grouped_df['sp Percent(7)'].apply(calculate_gmean))\n",
    "k_sp_returns_14 = list(grouped_df['sp Percent(14)'].apply(calculate_gmean))\n",
    "k_sp_returns_90 = list(grouped_df['sp Percent(90)'].apply(calculate_gmean))\n",
    "\n",
    "\n",
    "#     yearly_sp_returns = k_sp_returns.groupby('year').apply(gmean)\n",
    "#     yearly_sp_returns = yearly_sp_returns - 1\n",
    "\n",
    "dates = ['2018-01-01', '2019-01-01', '2020-01-01', '2021-01-01', '2022-01-01']\n",
    "\n",
    "def calculate_alphas(dates, rf_date, cumprod_rf, k_returns_7, k_returns_14, k_returns_90, \n",
    "                     k_sp_returns_7, k_sp_returns_14, k_sp_returns_90, k_betas, K):\n",
    "\n",
    "\n",
    "    alphas_7 = []\n",
    "    jensen_alphas_7 = []\n",
    "\n",
    "    alphas_14 = []\n",
    "    jensen_alphas_14 = []\n",
    "\n",
    "    alphas_90 = []\n",
    "    jensen_alphas_90 = []\n",
    "\n",
    "    k_s = []\n",
    "    k_years = []\n",
    "    for i in range(len(dates)):\n",
    "        date = datetime.strptime(dates[i], '%Y-%m-%d')\n",
    "    \n",
    "        for k in range(K):\n",
    "            k_s.append(k)\n",
    "            k_years.append(date.year)\n",
    "            idx = i*K + k\n",
    "            jen_7 = jensen_alpha(date, rf_date, cumprod_rf, k_returns_7[idx], k_sp_returns_7[idx], k_betas[idx])\n",
    "            sim_7 = simple_alpha(k_returns_7[idx], k_sp_returns_7[idx])\n",
    "            jensen_alphas_7.append(jen_7)\n",
    "            alphas_7.append(sim_7)\n",
    "\n",
    "\n",
    "            jen_14 = jensen_alpha(date, rf_date, cumprod_rf, k_returns_14[idx], k_sp_returns_14[idx], k_betas[idx])\n",
    "            sim_14 = simple_alpha(k_returns_14[idx], k_sp_returns_14[idx])\n",
    "            jensen_alphas_14.append(jen_14)\n",
    "            alphas_14.append(sim_14)\n",
    "\n",
    "            jen_90 = jensen_alpha(date, rf_date, cumprod_rf, k_returns_90[idx], k_sp_returns_90[idx], k_betas[idx])\n",
    "            sim_90 = simple_alpha(k_returns_90[idx], k_sp_returns_90[idx])\n",
    "            jensen_alphas_90.append(jen_90)\n",
    "            alphas_90.append(sim_90)\n",
    "\n",
    "\n",
    "    data_dict = { \"Year\": k_years, \n",
    "                 \"beta\": k_betas,\n",
    "                 \"K\": k_s,\n",
    "                 \"Percent Returns (7)\": k_returns_7,\n",
    "                 \"sp Percent (7)\": k_sp_returns_7,\n",
    "                 \"Simple Alpha (7)\": alphas_7,\n",
    "                 \"Jensen Alpha (7)\": jensen_alphas_7,\n",
    "\n",
    "                 \"Percent Returns (14)\": k_returns_14,\n",
    "                 \"sp Percent (14)\": k_sp_returns_14,\n",
    "                 \"Simple Alpha (14)\": alphas_14,\n",
    "                 \"Jensen Alpha (14)\": jensen_alphas_14,\n",
    "\n",
    "                 \"Percent Returns (90)\": k_returns_90,\n",
    "                 \"sp Percent (90)\": k_sp_returns_90,\n",
    "                 \"Simple Alpha (90)\": alphas_90,\n",
    "                 \"Jensen Alpha (90)\": jensen_alphas_90,\n",
    "                }\n",
    "\n",
    "    df = pd.DataFrame(data_dict)\n",
    "    return df\n",
    "        \n",
    "        \n",
    "                \n",
    "        \n",
    "new_df = calculate_alphas(dates, rf_date, cumprod_rf, k_returns_7, k_returns_14, k_returns_90, \n",
    "                     k_sp_returns_7, k_sp_returns_14, k_sp_returns_90, k_betas, K=5)\n",
    "    "
   ]
  },
  {
   "cell_type": "code",
   "execution_count": 182,
   "id": "145c68e6",
   "metadata": {},
   "outputs": [
    {
     "data": {
      "text/plain": [
       "Text(0, 0.5, 'Alpha')"
      ]
     },
     "execution_count": 182,
     "metadata": {},
     "output_type": "execute_result"
    },
    {
     "data": {
      "image/png": "[encoded data removed]",
      "text/plain": [
       "<Figure size 800x600 with 2 Axes>"
      ]
     },
     "metadata": {},
     "output_type": "display_data"
    }
   ],
   "source": [
    "\n",
    "new_df.boxplot(column=['Simple Alpha (7)', 'Jensen Alpha (7)'], by=['Year'], figsize=(8, 6))\n",
    "plt.suptitle('Boxplot of Simple Alpha and Jensen Alpha by Year - Model 3 Validation Set')\n",
    "plt.xlabel('Year')\n",
    "plt.ylabel('Alpha')\n",
    "# plt.show()"
   ]
  },
  {
   "cell_type": "code",
   "execution_count": null,
   "id": "2aebb301",
   "metadata": {},
   "outputs": [],
   "source": [
    "\n",
    "sns.boxplot(column=['Simple Alpha (90)', 'Jensen Alpha (90)'], by=['Year'], figsize=(8, 6))\n",
    "plt.title('Boxplot of Simple Alpha and Jensen Alpha by Year')\n",
    "# plt.show()"
   ]
  },
  {
   "cell_type": "code",
   "execution_count": 130,
   "id": "de8d1e27",
   "metadata": {},
   "outputs": [
    {
     "name": "stdout",
     "output_type": "stream",
     "text": [
      "outputs_8.csv\n"
     ]
    },
    {
     "name": "stderr",
     "output_type": "stream",
     "text": [
      "/var/folders/nj/5crsgjwx3sxd51h31pmwlxj80000gn/T/ipykernel_6289/3858518588.py:18: FutureWarning: The default value of numeric_only in DataFrameGroupBy.mean is deprecated. In a future version, numeric_only will default to False. Either specify numeric_only or select only columns which should be valid for the function.\n",
      "  grouped_averages = grouped_df.mean()\n"
     ]
    },
    {
     "name": "stdout",
     "output_type": "stream",
     "text": [
      "     Year  Simple Alpha (7)  Jensen Alpha (7)  Simple Alpha (14)  \\\n",
      "0  2020.0          0.006758          0.007044           0.008459   \n",
      "\n",
      "   Jensen Alpha (14)  Simple Alpha (90)  Jensen Alpha (90) output_num  \n",
      "0           0.009295          -0.001013          -0.001564  outputs_8  \n",
      "outputs_9.csv\n"
     ]
    },
    {
     "name": "stderr",
     "output_type": "stream",
     "text": [
      "/var/folders/nj/5crsgjwx3sxd51h31pmwlxj80000gn/T/ipykernel_6289/3858518588.py:18: FutureWarning: The default value of numeric_only in DataFrameGroupBy.mean is deprecated. In a future version, numeric_only will default to False. Either specify numeric_only or select only columns which should be valid for the function.\n",
      "  grouped_averages = grouped_df.mean()\n"
     ]
    },
    {
     "name": "stdout",
     "output_type": "stream",
     "text": [
      "     Year  Simple Alpha (7)  Jensen Alpha (7)  Simple Alpha (14)  \\\n",
      "0  2020.0          0.007316          0.007325           0.009119   \n",
      "\n",
      "   Jensen Alpha (14)  Simple Alpha (90)  Jensen Alpha (90) output_num  \n",
      "0           0.009566          -0.005129          -0.006826  outputs_9  \n",
      "outputs_18.csv\n"
     ]
    },
    {
     "name": "stderr",
     "output_type": "stream",
     "text": [
      "/var/folders/nj/5crsgjwx3sxd51h31pmwlxj80000gn/T/ipykernel_6289/3858518588.py:18: FutureWarning: The default value of numeric_only in DataFrameGroupBy.mean is deprecated. In a future version, numeric_only will default to False. Either specify numeric_only or select only columns which should be valid for the function.\n",
      "  grouped_averages = grouped_df.mean()\n"
     ]
    },
    {
     "name": "stdout",
     "output_type": "stream",
     "text": [
      "     Year  Simple Alpha (7)  Jensen Alpha (7)  Simple Alpha (14)  \\\n",
      "0  2020.0          0.006006          0.006072           0.007212   \n",
      "\n",
      "   Jensen Alpha (14)  Simple Alpha (90)  Jensen Alpha (90)  output_num  \n",
      "0           0.007685          -0.003808          -0.005142  outputs_18  \n",
      "outputs_19.csv\n"
     ]
    },
    {
     "name": "stderr",
     "output_type": "stream",
     "text": [
      "/var/folders/nj/5crsgjwx3sxd51h31pmwlxj80000gn/T/ipykernel_6289/3858518588.py:18: FutureWarning: The default value of numeric_only in DataFrameGroupBy.mean is deprecated. In a future version, numeric_only will default to False. Either specify numeric_only or select only columns which should be valid for the function.\n",
      "  grouped_averages = grouped_df.mean()\n"
     ]
    },
    {
     "name": "stdout",
     "output_type": "stream",
     "text": [
      "     Year  Simple Alpha (7)  Jensen Alpha (7)  Simple Alpha (14)  \\\n",
      "0  2020.0          0.007108          0.007442           0.009361   \n",
      "\n",
      "   Jensen Alpha (14)  Simple Alpha (90)  Jensen Alpha (90)  output_num  \n",
      "0           0.009969             0.0208           0.018093  outputs_19  \n",
      "outputs_12.csv\n"
     ]
    },
    {
     "name": "stderr",
     "output_type": "stream",
     "text": [
      "/var/folders/nj/5crsgjwx3sxd51h31pmwlxj80000gn/T/ipykernel_6289/3858518588.py:18: FutureWarning: The default value of numeric_only in DataFrameGroupBy.mean is deprecated. In a future version, numeric_only will default to False. Either specify numeric_only or select only columns which should be valid for the function.\n",
      "  grouped_averages = grouped_df.mean()\n"
     ]
    },
    {
     "name": "stdout",
     "output_type": "stream",
     "text": [
      "     Year  Simple Alpha (7)  Jensen Alpha (7)  Simple Alpha (14)  \\\n",
      "0  2020.0          0.005453          0.005991           0.006868   \n",
      "\n",
      "   Jensen Alpha (14)  Simple Alpha (90)  Jensen Alpha (90)  output_num  \n",
      "0           0.007783           0.017165           0.015872  outputs_12  \n",
      "outputs_13.csv\n"
     ]
    },
    {
     "name": "stderr",
     "output_type": "stream",
     "text": [
      "/var/folders/nj/5crsgjwx3sxd51h31pmwlxj80000gn/T/ipykernel_6289/3858518588.py:18: FutureWarning: The default value of numeric_only in DataFrameGroupBy.mean is deprecated. In a future version, numeric_only will default to False. Either specify numeric_only or select only columns which should be valid for the function.\n",
      "  grouped_averages = grouped_df.mean()\n"
     ]
    },
    {
     "name": "stdout",
     "output_type": "stream",
     "text": [
      "     Year  Simple Alpha (7)  Jensen Alpha (7)  Simple Alpha (14)  \\\n",
      "0  2020.0           0.00499          0.005247           0.006324   \n",
      "\n",
      "   Jensen Alpha (14)  Simple Alpha (90)  Jensen Alpha (90)  output_num  \n",
      "0            0.00682           0.013046           0.011056  outputs_13  \n",
      "outputs_11.csv\n"
     ]
    },
    {
     "name": "stderr",
     "output_type": "stream",
     "text": [
      "/var/folders/nj/5crsgjwx3sxd51h31pmwlxj80000gn/T/ipykernel_6289/3858518588.py:18: FutureWarning: The default value of numeric_only in DataFrameGroupBy.mean is deprecated. In a future version, numeric_only will default to False. Either specify numeric_only or select only columns which should be valid for the function.\n",
      "  grouped_averages = grouped_df.mean()\n"
     ]
    },
    {
     "name": "stdout",
     "output_type": "stream",
     "text": [
      "     Year  Simple Alpha (7)  Jensen Alpha (7)  Simple Alpha (14)  \\\n",
      "0  2020.0          0.006758          0.007044           0.008459   \n",
      "\n",
      "   Jensen Alpha (14)  Simple Alpha (90)  Jensen Alpha (90)  output_num  \n",
      "0           0.009295          -0.001013          -0.001564  outputs_11  \n",
      "outputs_10.csv\n"
     ]
    },
    {
     "name": "stderr",
     "output_type": "stream",
     "text": [
      "/var/folders/nj/5crsgjwx3sxd51h31pmwlxj80000gn/T/ipykernel_6289/3858518588.py:18: FutureWarning: The default value of numeric_only in DataFrameGroupBy.mean is deprecated. In a future version, numeric_only will default to False. Either specify numeric_only or select only columns which should be valid for the function.\n",
      "  grouped_averages = grouped_df.mean()\n"
     ]
    },
    {
     "name": "stdout",
     "output_type": "stream",
     "text": [
      "     Year  Simple Alpha (7)  Jensen Alpha (7)  Simple Alpha (14)  \\\n",
      "0  2020.0          0.007649          0.007488           0.009767   \n",
      "\n",
      "   Jensen Alpha (14)  Simple Alpha (90)  Jensen Alpha (90)  output_num  \n",
      "0            0.01017          -0.014371          -0.015822  outputs_10  \n",
      "outputs_14.csv\n"
     ]
    },
    {
     "name": "stderr",
     "output_type": "stream",
     "text": [
      "/var/folders/nj/5crsgjwx3sxd51h31pmwlxj80000gn/T/ipykernel_6289/3858518588.py:18: FutureWarning: The default value of numeric_only in DataFrameGroupBy.mean is deprecated. In a future version, numeric_only will default to False. Either specify numeric_only or select only columns which should be valid for the function.\n",
      "  grouped_averages = grouped_df.mean()\n"
     ]
    },
    {
     "name": "stdout",
     "output_type": "stream",
     "text": [
      "     Year  Simple Alpha (7)  Jensen Alpha (7)  Simple Alpha (14)  \\\n",
      "0  2020.0          0.006291          0.006325           0.007969   \n",
      "\n",
      "   Jensen Alpha (14)  Simple Alpha (90)  Jensen Alpha (90)  output_num  \n",
      "0           0.008438          -0.006043          -0.007251  outputs_14  \n",
      "outputs_15.csv\n"
     ]
    },
    {
     "name": "stderr",
     "output_type": "stream",
     "text": [
      "/var/folders/nj/5crsgjwx3sxd51h31pmwlxj80000gn/T/ipykernel_6289/3858518588.py:18: FutureWarning: The default value of numeric_only in DataFrameGroupBy.mean is deprecated. In a future version, numeric_only will default to False. Either specify numeric_only or select only columns which should be valid for the function.\n",
      "  grouped_averages = grouped_df.mean()\n"
     ]
    },
    {
     "name": "stdout",
     "output_type": "stream",
     "text": [
      "     Year  Simple Alpha (7)  Jensen Alpha (7)  Simple Alpha (14)  \\\n",
      "0  2020.0          0.005453          0.005991           0.006868   \n",
      "\n",
      "   Jensen Alpha (14)  Simple Alpha (90)  Jensen Alpha (90)  output_num  \n",
      "0           0.007783           0.017165           0.015872  outputs_15  \n",
      "outputs_17.csv\n"
     ]
    },
    {
     "name": "stderr",
     "output_type": "stream",
     "text": [
      "/var/folders/nj/5crsgjwx3sxd51h31pmwlxj80000gn/T/ipykernel_6289/3858518588.py:18: FutureWarning: The default value of numeric_only in DataFrameGroupBy.mean is deprecated. In a future version, numeric_only will default to False. Either specify numeric_only or select only columns which should be valid for the function.\n",
      "  grouped_averages = grouped_df.mean()\n"
     ]
    },
    {
     "name": "stdout",
     "output_type": "stream",
     "text": [
      "     Year  Simple Alpha (7)  Jensen Alpha (7)  Simple Alpha (14)  \\\n",
      "0  2020.0          0.005873          0.006098           0.008688   \n",
      "\n",
      "   Jensen Alpha (14)  Simple Alpha (90)  Jensen Alpha (90)  output_num  \n",
      "0           0.009199           0.012571           0.010056  outputs_17  \n",
      "outputs_16.csv\n"
     ]
    },
    {
     "name": "stderr",
     "output_type": "stream",
     "text": [
      "/var/folders/nj/5crsgjwx3sxd51h31pmwlxj80000gn/T/ipykernel_6289/3858518588.py:18: FutureWarning: The default value of numeric_only in DataFrameGroupBy.mean is deprecated. In a future version, numeric_only will default to False. Either specify numeric_only or select only columns which should be valid for the function.\n",
      "  grouped_averages = grouped_df.mean()\n"
     ]
    },
    {
     "name": "stdout",
     "output_type": "stream",
     "text": [
      "     Year  Simple Alpha (7)  Jensen Alpha (7)  Simple Alpha (14)  \\\n",
      "0  2020.0          0.007108          0.007442           0.009361   \n",
      "\n",
      "   Jensen Alpha (14)  Simple Alpha (90)  Jensen Alpha (90)  output_num  \n",
      "0           0.009969             0.0208           0.018093  outputs_16  \n",
      "outputs_1.csv\n"
     ]
    },
    {
     "name": "stderr",
     "output_type": "stream",
     "text": [
      "/var/folders/nj/5crsgjwx3sxd51h31pmwlxj80000gn/T/ipykernel_6289/3858518588.py:18: FutureWarning: The default value of numeric_only in DataFrameGroupBy.mean is deprecated. In a future version, numeric_only will default to False. Either specify numeric_only or select only columns which should be valid for the function.\n",
      "  grouped_averages = grouped_df.mean()\n"
     ]
    },
    {
     "name": "stdout",
     "output_type": "stream",
     "text": [
      "     Year  Simple Alpha (7)  Jensen Alpha (7)  Simple Alpha (14)  \\\n",
      "0  2020.0          0.008999          0.009316           0.009036   \n",
      "\n",
      "   Jensen Alpha (14)  Simple Alpha (90)  Jensen Alpha (90) output_num  \n",
      "0           0.010363           -0.01702            -0.0184  outputs_1  \n",
      "outputs_0.csv\n"
     ]
    },
    {
     "name": "stderr",
     "output_type": "stream",
     "text": [
      "/var/folders/nj/5crsgjwx3sxd51h31pmwlxj80000gn/T/ipykernel_6289/3858518588.py:18: FutureWarning: The default value of numeric_only in DataFrameGroupBy.mean is deprecated. In a future version, numeric_only will default to False. Either specify numeric_only or select only columns which should be valid for the function.\n",
      "  grouped_averages = grouped_df.mean()\n"
     ]
    },
    {
     "name": "stdout",
     "output_type": "stream",
     "text": [
      "     Year  Simple Alpha (7)  Jensen Alpha (7)  Simple Alpha (14)  \\\n",
      "0  2020.0           0.00958          0.009882            0.00959   \n",
      "\n",
      "   Jensen Alpha (14)  Simple Alpha (90)  Jensen Alpha (90) output_num  \n",
      "0           0.010908          -0.016308          -0.017642  outputs_0  \n",
      "outputs_2.csv\n"
     ]
    },
    {
     "name": "stderr",
     "output_type": "stream",
     "text": [
      "/var/folders/nj/5crsgjwx3sxd51h31pmwlxj80000gn/T/ipykernel_6289/3858518588.py:18: FutureWarning: The default value of numeric_only in DataFrameGroupBy.mean is deprecated. In a future version, numeric_only will default to False. Either specify numeric_only or select only columns which should be valid for the function.\n",
      "  grouped_averages = grouped_df.mean()\n"
     ]
    },
    {
     "name": "stdout",
     "output_type": "stream",
     "text": [
      "     Year  Simple Alpha (7)  Jensen Alpha (7)  Simple Alpha (14)  \\\n",
      "0  2020.0          0.008621          0.009011           0.009009   \n",
      "\n",
      "   Jensen Alpha (14)  Simple Alpha (90)  Jensen Alpha (90) output_num  \n",
      "0            0.01037          -0.014011          -0.015236  outputs_2  \n",
      "outputs_3.csv\n"
     ]
    },
    {
     "name": "stderr",
     "output_type": "stream",
     "text": [
      "/var/folders/nj/5crsgjwx3sxd51h31pmwlxj80000gn/T/ipykernel_6289/3858518588.py:18: FutureWarning: The default value of numeric_only in DataFrameGroupBy.mean is deprecated. In a future version, numeric_only will default to False. Either specify numeric_only or select only columns which should be valid for the function.\n",
      "  grouped_averages = grouped_df.mean()\n"
     ]
    },
    {
     "name": "stdout",
     "output_type": "stream",
     "text": [
      "     Year  Simple Alpha (7)  Jensen Alpha (7)  Simple Alpha (14)  \\\n",
      "0  2020.0           0.00958          0.009882            0.00959   \n",
      "\n",
      "   Jensen Alpha (14)  Simple Alpha (90)  Jensen Alpha (90) output_num  \n",
      "0           0.010908          -0.016308          -0.017642  outputs_3  \n",
      "outputs_7.csv\n"
     ]
    },
    {
     "name": "stderr",
     "output_type": "stream",
     "text": [
      "/var/folders/nj/5crsgjwx3sxd51h31pmwlxj80000gn/T/ipykernel_6289/3858518588.py:18: FutureWarning: The default value of numeric_only in DataFrameGroupBy.mean is deprecated. In a future version, numeric_only will default to False. Either specify numeric_only or select only columns which should be valid for the function.\n",
      "  grouped_averages = grouped_df.mean()\n"
     ]
    },
    {
     "name": "stdout",
     "output_type": "stream",
     "text": [
      "     Year  Simple Alpha (7)  Jensen Alpha (7)  Simple Alpha (14)  \\\n",
      "0  2020.0           0.00799          0.007907           0.010781   \n",
      "\n",
      "   Jensen Alpha (14)  Simple Alpha (90)  Jensen Alpha (90) output_num  \n",
      "0            0.01148           -0.01577          -0.017306  outputs_7  \n",
      "outputs_6.csv\n"
     ]
    },
    {
     "name": "stderr",
     "output_type": "stream",
     "text": [
      "/var/folders/nj/5crsgjwx3sxd51h31pmwlxj80000gn/T/ipykernel_6289/3858518588.py:18: FutureWarning: The default value of numeric_only in DataFrameGroupBy.mean is deprecated. In a future version, numeric_only will default to False. Either specify numeric_only or select only columns which should be valid for the function.\n",
      "  grouped_averages = grouped_df.mean()\n"
     ]
    },
    {
     "name": "stdout",
     "output_type": "stream",
     "text": [
      "     Year  Simple Alpha (7)  Jensen Alpha (7)  Simple Alpha (14)  \\\n",
      "0  2020.0          0.009195          0.009003           0.011062   \n",
      "\n",
      "   Jensen Alpha (14)  Simple Alpha (90)  Jensen Alpha (90) output_num  \n",
      "0            0.01157          -0.016491          -0.018643  outputs_6  \n",
      "outputs_4.csv\n"
     ]
    },
    {
     "name": "stderr",
     "output_type": "stream",
     "text": [
      "/var/folders/nj/5crsgjwx3sxd51h31pmwlxj80000gn/T/ipykernel_6289/3858518588.py:18: FutureWarning: The default value of numeric_only in DataFrameGroupBy.mean is deprecated. In a future version, numeric_only will default to False. Either specify numeric_only or select only columns which should be valid for the function.\n",
      "  grouped_averages = grouped_df.mean()\n"
     ]
    },
    {
     "name": "stdout",
     "output_type": "stream",
     "text": [
      "     Year  Simple Alpha (7)  Jensen Alpha (7)  Simple Alpha (14)  \\\n",
      "0  2020.0           0.00799          0.007907           0.010781   \n",
      "\n",
      "   Jensen Alpha (14)  Simple Alpha (90)  Jensen Alpha (90) output_num  \n",
      "0            0.01148           -0.01577          -0.017306  outputs_4  \n",
      "outputs_5.csv\n",
      "     Year  Simple Alpha (7)  Jensen Alpha (7)  Simple Alpha (14)  \\\n",
      "0  2020.0          0.007994          0.007866            0.01106   \n",
      "\n",
      "   Jensen Alpha (14)  Simple Alpha (90)  Jensen Alpha (90) output_num  \n",
      "0           0.011657          -0.016163          -0.017927  outputs_5  \n"
     ]
    },
    {
     "name": "stderr",
     "output_type": "stream",
     "text": [
      "/var/folders/nj/5crsgjwx3sxd51h31pmwlxj80000gn/T/ipykernel_6289/3858518588.py:18: FutureWarning: The default value of numeric_only in DataFrameGroupBy.mean is deprecated. In a future version, numeric_only will default to False. Either specify numeric_only or select only columns which should be valid for the function.\n",
      "  grouped_averages = grouped_df.mean()\n"
     ]
    }
   ],
   "source": [
    "# THIS CELL ORGANIZES EVERY OUTPUT FILE AND AVERGATES TO FIND BEST MODEL\n",
    "def calculate_gmean(group):\n",
    "    return gmean(group + 1) - 1\n",
    "\n",
    "total = pd.DataFrame()\n",
    "\n",
    "for filename in (os.listdir(directory)):\n",
    "    print(filename)\n",
    "    f = os.path.join(directory, filename)\n",
    "    df = pd.read_csv(f)\n",
    "    df = df[df['sp Annual (90)'] != -999]\n",
    "    df = df[df['beta'] >= 0]\n",
    "    df = df[df['beta'] <= 3.0]\n",
    "    df['Date'] = pd.to_datetime(df['Date'])\n",
    "    df = df[df['Date'].dt.month.isin([1,2,3,4])]\n",
    "    \n",
    "    \n",
    "    grouped_df = df.groupby(['year', 'k'])\n",
    "    grouped_averages = grouped_df.mean()\n",
    "    k_betas = list(grouped_averages['beta'])\n",
    "    cols = ['Percent Return (7)', 'Percent Return (14)', 'Percent Return (90)']\n",
    "    k_returns_7 = list(grouped_df['Percent Return (7)'].apply(calculate_gmean))\n",
    "    k_returns_14 = list(grouped_df['Percent Return (14)'].apply(calculate_gmean))\n",
    "    k_returns_90 = list(grouped_df['Percent Return (90)'].apply(calculate_gmean))\n",
    "\n",
    "    \n",
    "    k_sp_returns_7 = list(grouped_df['sp Percent(7)'].apply(calculate_gmean))\n",
    "    k_sp_returns_14 = list(grouped_df['sp Percent(14)'].apply(calculate_gmean))\n",
    "    k_sp_returns_90 = list(grouped_df['sp Percent(90)'].apply(calculate_gmean))\n",
    "\n",
    "\n",
    "#     yearly_sp_returns = k_sp_returns.groupby('year').apply(gmean)\n",
    "#     yearly_sp_returns = yearly_sp_returns - 1\n",
    "\n",
    "    dates = ['2018-01-01', '2019-01-01', '2020-01-01', '2021-01-01', '2022-01-01']\n",
    "    \n",
    "    def calculate_alphas(dates, rf_date, cumprod_rf, k_returns_7, k_returns_14, k_returns_90, \n",
    "                         k_sp_returns_7, k_sp_returns_14, k_sp_returns_90, k_betas, K):\n",
    "        \n",
    "        years = []\n",
    "        avg_alphas_7 = []\n",
    "        avg_alphas_14 = []\n",
    "        avg_alphas_90 = []\n",
    "        \n",
    "        avg_jen_alphas_7 = []\n",
    "        avg_jen_alphas_14 = []\n",
    "        avg_jen_alphas_90 = []\n",
    "        \n",
    "        for i in range(len(dates)):\n",
    "            date = datetime.strptime(dates[i], '%Y-%m-%d')\n",
    "            years.append(date.year)\n",
    "            \n",
    "            alphas_7 = []\n",
    "            jensen_alphas_7 = []\n",
    "\n",
    "            alphas_14 = []\n",
    "            jensen_alphas_14 = []\n",
    "\n",
    "            alphas_90 = []\n",
    "            jensen_alphas_90 = []\n",
    "            for k in range(K):\n",
    "#                 k_s.append(k)\n",
    "#                 k_years.append(date.year)\n",
    "                idx = i*K + k\n",
    "                jen_7 = jensen_alpha(date, rf_date, cumprod_rf, k_returns_7[idx], k_sp_returns_7[idx], k_betas[idx])\n",
    "                sim_7 = simple_alpha(k_returns_7[idx], k_sp_returns_7[idx])\n",
    "                jensen_alphas_7.append(jen_7)\n",
    "                alphas_7.append(sim_7)\n",
    "\n",
    "\n",
    "                jen_14 = jensen_alpha(date, rf_date, cumprod_rf, k_returns_14[idx], k_sp_returns_14[idx], k_betas[idx])\n",
    "                sim_14 = simple_alpha(k_returns_14[idx], k_sp_returns_14[idx])\n",
    "                jensen_alphas_14.append(jen_14)\n",
    "                alphas_14.append(sim_14)\n",
    "\n",
    "                jen_90 = jensen_alpha(date, rf_date, cumprod_rf, k_returns_90[idx], k_sp_returns_90[idx], k_betas[idx])\n",
    "                sim_90 = simple_alpha(k_returns_90[idx], k_sp_returns_90[idx])\n",
    "                jensen_alphas_90.append(jen_90)\n",
    "                alphas_90.append(sim_90)\n",
    "               \n",
    "            \n",
    "            \n",
    "            \n",
    "            avg_alphas_7.append(np.mean(alphas_7))\n",
    "            avg_alphas_14.append(np.mean(alphas_14))\n",
    "            avg_alphas_90.append(np.mean(alphas_90))\n",
    "            \n",
    "            \n",
    "            avg_jen_alphas_7.append(np.mean(jensen_alphas_7))\n",
    "            avg_jen_alphas_14.append(np.mean(jensen_alphas_14))\n",
    "            avg_jen_alphas_90.append(np.mean(jensen_alphas_90))\n",
    "            \n",
    "\n",
    "\n",
    "        data_dict = { \n",
    "                    \"Year\": years, \n",
    "                     #\"beta\": k_betas,\n",
    "                     #\"K\": k_s,\n",
    "                     #\"Percent Returns (7)\": k_returns_7,\n",
    "                     #\"sp Percent (7)\": k_sp_returns_7,\n",
    "                     \"Simple Alpha (7)\": avg_alphas_7,\n",
    "                     \"Jensen Alpha (7)\": avg_jen_alphas_7,\n",
    "                     \n",
    "                     #\"Percent Returns (14)\": k_returns_14,\n",
    "                     #\"sp Percent (14)\": k_sp_returns_14,\n",
    "                     \"Simple Alpha (14)\": avg_alphas_14,\n",
    "                     \"Jensen Alpha (14)\": avg_jen_alphas_14,\n",
    "                     \n",
    "                     #\"Percent Returns (90)\": k_returns_90,\n",
    "                     #\"sp Percent (90)\": k_sp_returns_90,\n",
    "                     \"Simple Alpha (90)\": avg_alphas_90,\n",
    "                     \"Jensen Alpha (90)\": avg_jen_alphas_90,\n",
    "                    }\n",
    "        \n",
    "        df = pd.DataFrame(data_dict).mean().to_frame().T\n",
    "        df['output_num'] = filename.split('.')[0]\n",
    "        \n",
    "        return df\n",
    "        \n",
    "                \n",
    "        \n",
    "    df_avg_values = calculate_alphas(dates, rf_date, cumprod_rf, k_returns_7, k_returns_14, k_returns_90, \n",
    "                         k_sp_returns_7, k_sp_returns_14, k_sp_returns_90, k_betas, K=5)\n",
    "    total = pd.concat([total, df_avg_values])\n",
    "    \n",
    "    print(df_avg_values)\n",
    "    "
   ]
  },
  {
   "cell_type": "code",
   "execution_count": 186,
   "id": "b437fc37",
   "metadata": {},
   "outputs": [
    {
     "data": {
      "text/html": [
       "<div>\n",
       "<style scoped>\n",
       "    .dataframe tbody tr th:only-of-type {\n",
       "        vertical-align: middle;\n",
       "    }\n",
       "\n",
       "    .dataframe tbody tr th {\n",
       "        vertical-align: top;\n",
       "    }\n",
       "\n",
       "    .dataframe thead th {\n",
       "        text-align: right;\n",
       "    }\n",
       "</style>\n",
       "<table border=\"1\" class=\"dataframe\">\n",
       "  <thead>\n",
       "    <tr style=\"text-align: right;\">\n",
       "      <th></th>\n",
       "      <th>Year</th>\n",
       "      <th>Simple Alpha (7)</th>\n",
       "      <th>Jensen Alpha (7)</th>\n",
       "      <th>Simple Alpha (14)</th>\n",
       "      <th>Jensen Alpha (14)</th>\n",
       "      <th>Simple Alpha (90)</th>\n",
       "      <th>Jensen Alpha (90)</th>\n",
       "      <th>output_num</th>\n",
       "    </tr>\n",
       "  </thead>\n",
       "  <tbody>\n",
       "    <tr>\n",
       "      <th>0</th>\n",
       "      <td>2020.0</td>\n",
       "      <td>0.007108</td>\n",
       "      <td>0.007442</td>\n",
       "      <td>0.009361</td>\n",
       "      <td>0.009969</td>\n",
       "      <td>0.020800</td>\n",
       "      <td>0.018093</td>\n",
       "      <td>outputs_16</td>\n",
       "    </tr>\n",
       "    <tr>\n",
       "      <th>0</th>\n",
       "      <td>2020.0</td>\n",
       "      <td>0.007108</td>\n",
       "      <td>0.007442</td>\n",
       "      <td>0.009361</td>\n",
       "      <td>0.009969</td>\n",
       "      <td>0.020800</td>\n",
       "      <td>0.018093</td>\n",
       "      <td>outputs_19</td>\n",
       "    </tr>\n",
       "    <tr>\n",
       "      <th>0</th>\n",
       "      <td>2020.0</td>\n",
       "      <td>0.005453</td>\n",
       "      <td>0.005991</td>\n",
       "      <td>0.006868</td>\n",
       "      <td>0.007783</td>\n",
       "      <td>0.017165</td>\n",
       "      <td>0.015872</td>\n",
       "      <td>outputs_15</td>\n",
       "    </tr>\n",
       "    <tr>\n",
       "      <th>0</th>\n",
       "      <td>2020.0</td>\n",
       "      <td>0.005453</td>\n",
       "      <td>0.005991</td>\n",
       "      <td>0.006868</td>\n",
       "      <td>0.007783</td>\n",
       "      <td>0.017165</td>\n",
       "      <td>0.015872</td>\n",
       "      <td>outputs_12</td>\n",
       "    </tr>\n",
       "    <tr>\n",
       "      <th>0</th>\n",
       "      <td>2020.0</td>\n",
       "      <td>0.004990</td>\n",
       "      <td>0.005247</td>\n",
       "      <td>0.006324</td>\n",
       "      <td>0.006820</td>\n",
       "      <td>0.013046</td>\n",
       "      <td>0.011056</td>\n",
       "      <td>outputs_13</td>\n",
       "    </tr>\n",
       "    <tr>\n",
       "      <th>0</th>\n",
       "      <td>2020.0</td>\n",
       "      <td>0.005873</td>\n",
       "      <td>0.006098</td>\n",
       "      <td>0.008688</td>\n",
       "      <td>0.009199</td>\n",
       "      <td>0.012571</td>\n",
       "      <td>0.010056</td>\n",
       "      <td>outputs_17</td>\n",
       "    </tr>\n",
       "    <tr>\n",
       "      <th>0</th>\n",
       "      <td>2020.0</td>\n",
       "      <td>0.006758</td>\n",
       "      <td>0.007044</td>\n",
       "      <td>0.008459</td>\n",
       "      <td>0.009295</td>\n",
       "      <td>-0.001013</td>\n",
       "      <td>-0.001564</td>\n",
       "      <td>outputs_8</td>\n",
       "    </tr>\n",
       "    <tr>\n",
       "      <th>0</th>\n",
       "      <td>2020.0</td>\n",
       "      <td>0.006758</td>\n",
       "      <td>0.007044</td>\n",
       "      <td>0.008459</td>\n",
       "      <td>0.009295</td>\n",
       "      <td>-0.001013</td>\n",
       "      <td>-0.001564</td>\n",
       "      <td>outputs_11</td>\n",
       "    </tr>\n",
       "    <tr>\n",
       "      <th>0</th>\n",
       "      <td>2020.0</td>\n",
       "      <td>0.006006</td>\n",
       "      <td>0.006072</td>\n",
       "      <td>0.007212</td>\n",
       "      <td>0.007685</td>\n",
       "      <td>-0.003808</td>\n",
       "      <td>-0.005142</td>\n",
       "      <td>outputs_18</td>\n",
       "    </tr>\n",
       "    <tr>\n",
       "      <th>0</th>\n",
       "      <td>2020.0</td>\n",
       "      <td>0.007316</td>\n",
       "      <td>0.007325</td>\n",
       "      <td>0.009119</td>\n",
       "      <td>0.009566</td>\n",
       "      <td>-0.005129</td>\n",
       "      <td>-0.006826</td>\n",
       "      <td>outputs_9</td>\n",
       "    </tr>\n",
       "    <tr>\n",
       "      <th>0</th>\n",
       "      <td>2020.0</td>\n",
       "      <td>0.006291</td>\n",
       "      <td>0.006325</td>\n",
       "      <td>0.007969</td>\n",
       "      <td>0.008438</td>\n",
       "      <td>-0.006043</td>\n",
       "      <td>-0.007251</td>\n",
       "      <td>outputs_14</td>\n",
       "    </tr>\n",
       "    <tr>\n",
       "      <th>0</th>\n",
       "      <td>2020.0</td>\n",
       "      <td>0.008621</td>\n",
       "      <td>0.009011</td>\n",
       "      <td>0.009009</td>\n",
       "      <td>0.010370</td>\n",
       "      <td>-0.014011</td>\n",
       "      <td>-0.015236</td>\n",
       "      <td>outputs_2</td>\n",
       "    </tr>\n",
       "    <tr>\n",
       "      <th>0</th>\n",
       "      <td>2020.0</td>\n",
       "      <td>0.007649</td>\n",
       "      <td>0.007488</td>\n",
       "      <td>0.009767</td>\n",
       "      <td>0.010170</td>\n",
       "      <td>-0.014371</td>\n",
       "      <td>-0.015822</td>\n",
       "      <td>outputs_10</td>\n",
       "    </tr>\n",
       "    <tr>\n",
       "      <th>0</th>\n",
       "      <td>2020.0</td>\n",
       "      <td>0.007990</td>\n",
       "      <td>0.007907</td>\n",
       "      <td>0.010781</td>\n",
       "      <td>0.011480</td>\n",
       "      <td>-0.015770</td>\n",
       "      <td>-0.017306</td>\n",
       "      <td>outputs_7</td>\n",
       "    </tr>\n",
       "    <tr>\n",
       "      <th>0</th>\n",
       "      <td>2020.0</td>\n",
       "      <td>0.007990</td>\n",
       "      <td>0.007907</td>\n",
       "      <td>0.010781</td>\n",
       "      <td>0.011480</td>\n",
       "      <td>-0.015770</td>\n",
       "      <td>-0.017306</td>\n",
       "      <td>outputs_4</td>\n",
       "    </tr>\n",
       "    <tr>\n",
       "      <th>0</th>\n",
       "      <td>2020.0</td>\n",
       "      <td>0.007994</td>\n",
       "      <td>0.007866</td>\n",
       "      <td>0.011060</td>\n",
       "      <td>0.011657</td>\n",
       "      <td>-0.016163</td>\n",
       "      <td>-0.017927</td>\n",
       "      <td>outputs_5</td>\n",
       "    </tr>\n",
       "    <tr>\n",
       "      <th>0</th>\n",
       "      <td>2020.0</td>\n",
       "      <td>0.009580</td>\n",
       "      <td>0.009882</td>\n",
       "      <td>0.009590</td>\n",
       "      <td>0.010908</td>\n",
       "      <td>-0.016308</td>\n",
       "      <td>-0.017642</td>\n",
       "      <td>outputs_0</td>\n",
       "    </tr>\n",
       "    <tr>\n",
       "      <th>0</th>\n",
       "      <td>2020.0</td>\n",
       "      <td>0.009580</td>\n",
       "      <td>0.009882</td>\n",
       "      <td>0.009590</td>\n",
       "      <td>0.010908</td>\n",
       "      <td>-0.016308</td>\n",
       "      <td>-0.017642</td>\n",
       "      <td>outputs_3</td>\n",
       "    </tr>\n",
       "    <tr>\n",
       "      <th>0</th>\n",
       "      <td>2020.0</td>\n",
       "      <td>0.009195</td>\n",
       "      <td>0.009003</td>\n",
       "      <td>0.011062</td>\n",
       "      <td>0.011570</td>\n",
       "      <td>-0.016491</td>\n",
       "      <td>-0.018643</td>\n",
       "      <td>outputs_6</td>\n",
       "    </tr>\n",
       "    <tr>\n",
       "      <th>0</th>\n",
       "      <td>2020.0</td>\n",
       "      <td>0.008999</td>\n",
       "      <td>0.009316</td>\n",
       "      <td>0.009036</td>\n",
       "      <td>0.010363</td>\n",
       "      <td>-0.017020</td>\n",
       "      <td>-0.018400</td>\n",
       "      <td>outputs_1</td>\n",
       "    </tr>\n",
       "  </tbody>\n",
       "</table>\n",
       "</div>"
      ],
      "text/plain": [
       "     Year  Simple Alpha (7)  Jensen Alpha (7)  Simple Alpha (14)  \\\n",
       "0  2020.0          0.007108          0.007442           0.009361   \n",
       "0  2020.0          0.007108          0.007442           0.009361   \n",
       "0  2020.0          0.005453          0.005991           0.006868   \n",
       "0  2020.0          0.005453          0.005991           0.006868   \n",
       "0  2020.0          0.004990          0.005247           0.006324   \n",
       "0  2020.0          0.005873          0.006098           0.008688   \n",
       "0  2020.0          0.006758          0.007044           0.008459   \n",
       "0  2020.0          0.006758          0.007044           0.008459   \n",
       "0  2020.0          0.006006          0.006072           0.007212   \n",
       "0  2020.0          0.007316          0.007325           0.009119   \n",
       "0  2020.0          0.006291          0.006325           0.007969   \n",
       "0  2020.0          0.008621          0.009011           0.009009   \n",
       "0  2020.0          0.007649          0.007488           0.009767   \n",
       "0  2020.0          0.007990          0.007907           0.010781   \n",
       "0  2020.0          0.007990          0.007907           0.010781   \n",
       "0  2020.0          0.007994          0.007866           0.011060   \n",
       "0  2020.0          0.009580          0.009882           0.009590   \n",
       "0  2020.0          0.009580          0.009882           0.009590   \n",
       "0  2020.0          0.009195          0.009003           0.011062   \n",
       "0  2020.0          0.008999          0.009316           0.009036   \n",
       "\n",
       "   Jensen Alpha (14)  Simple Alpha (90)  Jensen Alpha (90)  output_num  \n",
       "0           0.009969           0.020800           0.018093  outputs_16  \n",
       "0           0.009969           0.020800           0.018093  outputs_19  \n",
       "0           0.007783           0.017165           0.015872  outputs_15  \n",
       "0           0.007783           0.017165           0.015872  outputs_12  \n",
       "0           0.006820           0.013046           0.011056  outputs_13  \n",
       "0           0.009199           0.012571           0.010056  outputs_17  \n",
       "0           0.009295          -0.001013          -0.001564   outputs_8  \n",
       "0           0.009295          -0.001013          -0.001564  outputs_11  \n",
       "0           0.007685          -0.003808          -0.005142  outputs_18  \n",
       "0           0.009566          -0.005129          -0.006826   outputs_9  \n",
       "0           0.008438          -0.006043          -0.007251  outputs_14  \n",
       "0           0.010370          -0.014011          -0.015236   outputs_2  \n",
       "0           0.010170          -0.014371          -0.015822  outputs_10  \n",
       "0           0.011480          -0.015770          -0.017306   outputs_7  \n",
       "0           0.011480          -0.015770          -0.017306   outputs_4  \n",
       "0           0.011657          -0.016163          -0.017927   outputs_5  \n",
       "0           0.010908          -0.016308          -0.017642   outputs_0  \n",
       "0           0.010908          -0.016308          -0.017642   outputs_3  \n",
       "0           0.011570          -0.016491          -0.018643   outputs_6  \n",
       "0           0.010363          -0.017020          -0.018400   outputs_1  "
      ]
     },
     "execution_count": 186,
     "metadata": {},
     "output_type": "execute_result"
    }
   ],
   "source": [
    "total.sort_values(['Simple Alpha (90)'], ascending=[False])"
   ]
  },
  {
   "cell_type": "code",
   "execution_count": null,
   "id": "3fe4ad67",
   "metadata": {},
   "outputs": [],
   "source": []
  },
  {
   "cell_type": "code",
   "execution_count": null,
   "id": "7d6034d1",
   "metadata": {},
   "outputs": [],
   "source": []
  },
  {
   "cell_type": "code",
   "execution_count": null,
   "id": "e20c6085",
   "metadata": {},
   "outputs": [],
   "source": []
  },
  {
   "cell_type": "code",
   "execution_count": null,
   "id": "92589305",
   "metadata": {},
   "outputs": [],
   "source": []
  }
 ],
 "metadata": {
  "kernelspec": {
   "display_name": "Python 3 (ipykernel)",
   "language": "python",
   "name": "python3"
  },
  "language_info": {
   "codemirror_mode": {
    "name": "ipython",
    "version": 3
   },
   "file_extension": ".py",
   "mimetype": "text/x-python",
   "name": "python",
   "nbconvert_exporter": "python",
   "pygments_lexer": "ipython3",
   "version": "3.10.8"
  }
 },
 "nbformat": 4,
 "nbformat_minor": 5
}
